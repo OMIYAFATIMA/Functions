{
 "cells": [
  {
   "cell_type": "code",
   "execution_count": 2,
   "id": "b0dca2ec-4c99-4872-be17-09d964167757",
   "metadata": {},
   "outputs": [],
   "source": [
    "#Omiya Fatima\n",
    "#SP25-bbd-102"
   ]
  },
  {
   "cell_type": "code",
   "execution_count": 4,
   "id": "e4046e13-f035-4509-82a7-3eb4ab41e10d",
   "metadata": {},
   "outputs": [
    {
     "name": "stdout",
     "output_type": "stream",
     "text": [
      "Hello, Python Learner!\n"
     ]
    }
   ],
   "source": [
    "#Q no 1\n",
    "def say_hello():\n",
    "    print(\"Hello, Python Learner!\")\n",
    "\n",
    "say_hello()"
   ]
  },
  {
   "cell_type": "code",
   "execution_count": 7,
   "id": "74f5b986-e501-47e8-b694-d5cc14ab7651",
   "metadata": {},
   "outputs": [
    {
     "name": "stdout",
     "output_type": "stream",
     "text": [
      "Hello, Ayaan!\n"
     ]
    }
   ],
   "source": [
    "#Q no 2\n",
    "def greet_user(name):\n",
    "    print(f\"Hello, {name}!\")\n",
    "\n",
    "greet_user(\"Ayaan\")\n"
   ]
  },
  {
   "cell_type": "code",
   "execution_count": 8,
   "id": "2ca3b000-199b-4077-bf89-aa5e3ba054d5",
   "metadata": {},
   "outputs": [
    {
     "name": "stdout",
     "output_type": "stream",
     "text": [
      "I have a cat.\n",
      "Its name is Milo.\n",
      "I have a rabbit.\n",
      "Its name is Coco.\n"
     ]
    }
   ],
   "source": [
    "#Q no 3\n",
    "def describe_pet(animal_type, pet_name):\n",
    "    print(f\"I have a {animal_type}.\")\n",
    "    print(f\"Its name is {pet_name}.\")\n",
    "\n",
    "# Positional\n",
    "describe_pet(\"cat\", \"Milo\")\n",
    "\n",
    "# Keyword\n",
    "describe_pet(pet_name=\"Coco\", animal_type=\"rabbit\")\n"
   ]
  },
  {
   "cell_type": "code",
   "execution_count": 9,
   "id": "19882173-a40e-4b70-92a6-6961809cfa06",
   "metadata": {},
   "outputs": [
    {
     "name": "stdout",
     "output_type": "stream",
     "text": [
      "I have a dog.\n",
      "Its name is Rocky.\n",
      "I have a cat.\n",
      "Its name is Whiskers.\n"
     ]
    }
   ],
   "source": [
    "#Q no 4\n",
    "def describe_pet(pet_name, animal_type=\"dog\"):\n",
    "    print(f\"I have a {animal_type}.\")\n",
    "    print(f\"Its name is {pet_name}.\")\n",
    "\n",
    "# Using default animal_type\n",
    "describe_pet(\"Rocky\")\n",
    "\n",
    "# Specifying both\n",
    "describe_pet(\"Whiskers\", \"cat\")"
   ]
  },
  {
   "cell_type": "code",
   "execution_count": 10,
   "id": "6d121269-f5cc-4f3c-8533-5389bc967731",
   "metadata": {},
   "outputs": [
    {
     "name": "stdout",
     "output_type": "stream",
     "text": [
      "John Doe\n"
     ]
    }
   ],
   "source": [
    "#Q no 5\n",
    "def get_formatted_name(first, last):\n",
    "    full_name = f\"{first} {last}\"\n",
    "    return full_name.title()\n",
    "\n",
    "name = get_formatted_name(\"john\", \"doe\")\n",
    "print(name)"
   ]
  },
  {
   "cell_type": "code",
   "execution_count": 11,
   "id": "4bb3bbe0-6573-4f57-b827-8ead59482667",
   "metadata": {},
   "outputs": [
    {
     "name": "stdout",
     "output_type": "stream",
     "text": [
      "Ali Khan\n",
      "Muhammad Usman Khan\n"
     ]
    }
   ],
   "source": [
    "#Q no 6\n",
    "def get_formatted_name(first, last, middle=\"\"):\n",
    "    if middle:\n",
    "        full_name = f\"{first} {middle} {last}\"\n",
    "    else:\n",
    "        full_name = f\"{first} {last}\"\n",
    "    return full_name.title()\n",
    "\n",
    "print(get_formatted_name(\"ali\", \"khan\"))\n",
    "print(get_formatted_name(\"muhammad\", \"khan\", \"usman\"))"
   ]
  },
  {
   "cell_type": "code",
   "execution_count": 12,
   "id": "2890ac3c-b77a-4780-b8ab-f6c695c532b5",
   "metadata": {},
   "outputs": [
    {
     "name": "stdout",
     "output_type": "stream",
     "text": [
      "{'first': 'Ayesha', 'last': 'Iqbal'}\n",
      "{'first': 'Sara', 'last': 'Zafar', 'age': 22}\n"
     ]
    }
   ],
   "source": [
    "#Q no 7\n",
    "def build_person(first, last, age=None):\n",
    "    person = {\"first\": first, \"last\": last}\n",
    "    if age:\n",
    "        person[\"age\"] = age\n",
    "    return person\n",
    "\n",
    "print(build_person(\"Ayesha\", \"Iqbal\"))\n",
    "print(build_person(\"Sara\", \"Zafar\", 22))"
   ]
  },
  {
   "cell_type": "code",
   "execution_count": 13,
   "id": "5eca2cdc-608e-448a-90ae-27af42ca5f5d",
   "metadata": {},
   "outputs": [
    {
     "name": "stdout",
     "output_type": "stream",
     "text": [
      "Hello, Ali!\n",
      "Hello, Fatima!\n",
      "Hello, Zain!\n"
     ]
    }
   ],
   "source": [
    "#Q no 8\n",
    "def greet_users(usernames):\n",
    "    for name in usernames:\n",
    "        print(f\"Hello, {name.title()}!\")\n",
    "\n",
    "users = [\"ali\", \"fatima\", \"zain\"]\n",
    "greet_users(users)"
   ]
  },
  {
   "cell_type": "code",
   "execution_count": 14,
   "id": "f83f7ce2-a2ee-48b4-a38a-73df1f0dbcfa",
   "metadata": {},
   "outputs": [
    {
     "name": "stdout",
     "output_type": "stream",
     "text": [
      "Making a pizza with the following toppings:\n",
      "- cheese\n",
      "- pepperoni\n",
      "- mushrooms\n"
     ]
    }
   ],
   "source": [
    "#Q no 9\n",
    "def make_pizza(*toppings):\n",
    "    print(\"Making a pizza with the following toppings:\")\n",
    "    for topping in toppings:\n",
    "        print(f\"- {topping}\")\n",
    "\n",
    "make_pizza(\"cheese\", \"pepperoni\", \"mushrooms\")"
   ]
  },
  {
   "cell_type": "code",
   "execution_count": 15,
   "id": "34de600c-05d8-4b5d-a726-0489d3e21aae",
   "metadata": {},
   "outputs": [
    {
     "name": "stdout",
     "output_type": "stream",
     "text": [
      "{'first_name': 'Ahmed', 'last_name': 'Raza', 'location': 'Lahore', 'field': 'Data Science'}\n"
     ]
    }
   ],
   "source": [
    "#Q no 10\n",
    "def build_profile(first, last, **info):\n",
    "    profile = {\"first_name\": first, \"last_name\": last}\n",
    "    for key, value in info.items():\n",
    "        profile[key] = value\n",
    "    return profile\n",
    "\n",
    "user_profile = build_profile(\"Ahmed\", \"Raza\", location=\"Lahore\", field=\"Data Science\")\n",
    "print(user_profile)"
   ]
  },
  {
   "cell_type": "code",
   "execution_count": null,
   "id": "86d5b181-c8a3-4177-aac4-f85187edd558",
   "metadata": {},
   "outputs": [],
   "source": []
  }
 ],
 "metadata": {
  "kernelspec": {
   "display_name": "Python 3 (ipykernel)",
   "language": "python",
   "name": "python3"
  },
  "language_info": {
   "codemirror_mode": {
    "name": "ipython",
    "version": 3
   },
   "file_extension": ".py",
   "mimetype": "text/x-python",
   "name": "python",
   "nbconvert_exporter": "python",
   "pygments_lexer": "ipython3",
   "version": "3.12.7"
  }
 },
 "nbformat": 4,
 "nbformat_minor": 5
}
